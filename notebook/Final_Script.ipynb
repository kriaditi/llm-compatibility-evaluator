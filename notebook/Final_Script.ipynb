{
 "cells": [
  {
   "cell_type": "code",
   "execution_count": 1,
   "metadata": {},
   "outputs": [],
   "source": [
    "# Imports and setup\n",
    "import sys\n",
    "import os\n",
    "import json\n",
    "sys.path.append(\"../utils\")\n",
    "from datetime import datetime\n",
    "from gpt_utils import load_preferences, load_text, load_prompt, fill_prompt"
   ]
  },
  {
   "cell_type": "code",
   "execution_count": 2,
   "metadata": {},
   "outputs": [],
   "source": [
    "from llm_wrapper import call_mistral\n",
    "from chunker import summarize_large_text\n",
    "from image_caption import generate_tagged_picture_insights\n",
    "from input_handler import get_all_text, get_all_images\n",
    "from image_to_text import get_dating_bio_summary\n",
    "from image_to_text import get_linkedin_summary\n",
    "from behavior_scoring import analyze_behavior\n",
    "from time_scoring import analyze_timing\n",
    "from image_to_text import extract_text_from_image"
   ]
  },
  {
   "cell_type": "code",
   "execution_count": 3,
   "metadata": {},
   "outputs": [],
   "source": [
    "# Load preferences and pictures\n",
    "prefs = load_preferences('../preferences.json')\n",
    "pictures_folder = \"../data/pictures/\""
   ]
  },
  {
   "cell_type": "code",
   "execution_count": 4,
   "metadata": {},
   "outputs": [
    {
     "name": "stdout",
     "output_type": "stream",
     "text": [
      "Experienced Software Engineer with a B.Tech in Computer Science from IIT Bombay. Currently working as a Senior Software Engineer at FinTechX, specializing in building scalable backend systems for payment platforms and NLP-powered fraud detection. Previously, worked at Flipkart where responsibilities included designing distributed systems for e-commerce search and optimizing infrastructure for 10M+ daily queries. Skilled in Python, Java, C++, Machine Learning, Natural Language Processing, Deep Learning, AWS, and GCP. Based in Bangalore, India.\n"
     ]
    }
   ],
   "source": [
    "#LinkedIn summary (image if available, else txt)\n",
    "linkedin = get_linkedin_summary(\"../data/linkedin/\")\n",
    "print (linkedin)"
   ]
  },
  {
   "cell_type": "code",
   "execution_count": 5,
   "metadata": {},
   "outputs": [
    {
     "name": "stdout",
     "output_type": "stream",
     "text": [
      "The user is an adventurous fitness enthusiast with a passion for food who enjoys spontaneous road trips, deep conversations, and good coffee. They are seeking a meaningful connection beyond swipes, and share interests in mountains and pasta.\n"
     ]
    }
   ],
   "source": [
    "# Dating bio summary (image if available, else txt)\n",
    "bio = get_dating_bio_summary(\"../data/dating_app/\")\n",
    "print (bio)"
   ]
  },
  {
   "cell_type": "code",
   "execution_count": 6,
   "metadata": {},
   "outputs": [
    {
     "name": "stdout",
     "output_type": "stream",
     "text": [
      "time_scores: {'ghosting_score': 0, 'engagement_decay': 'low', 'consistency_score': 8, 'quickness_score': 6, 'comment': \"The engagement is relatively consistent with occasional quick replies. There's a slight decay in enthusiasm, but the overall interaction remains active.\"}\n"
     ]
    }
   ],
   "source": [
    "chat_folder = \"../data/chats/\"\n",
    "\n",
    "# 1. Get all .txt chat content\n",
    "chat_text = get_all_text(chat_folder)\n",
    "\n",
    "# 2. Get all image captions\n",
    "chat_images = get_all_images(chat_folder)\n",
    "chat_img_texts = [extract_text_from_image(img) for img in chat_images]\n",
    "chat_img_text = \"\\n\".join(chat_img_texts)\n",
    "\n",
    "# 3. Merge both\n",
    "combined_chat = f\"{chat_text}\\n{chat_img_text}\".strip()\n",
    "\n",
    "# 4. Use this combined version for summarization and scoring\n",
    "summarized_chats = summarize_large_text(combined_chat, call_mistral, max_tokens=1500)\n",
    "time_scores = analyze_timing(combined_chat)\n",
    "print(\"time_scores:\", time_scores)\n",
    "time_block = f\"\"\"\n",
    "Ghosting Score: {time_scores.get('ghosting_score', 'NA')}\n",
    "Engagement Decay: {time_scores.get('engagement_decay', '')}\n",
    "Response Consistency: {time_scores.get('response_consistency', '')}\n",
    "Comment: {time_scores.get('comment', '')}\n",
    "\"\"\""
   ]
  },
  {
   "cell_type": "code",
   "execution_count": 7,
   "metadata": {},
   "outputs": [
    {
     "name": "stdout",
     "output_type": "stream",
     "text": [
      "Behavior Scores: {'tone': 8, 'emotional_availability': 7, 'wit': 6, 'love_bombing': 0, 'comment': \"The conversation demonstrates a friendly and supportive tone with emotional clarity. Both individuals display maturity in their interactions and show empathy towards each other. While the chat includes occasional humor, it's not consistently witty. No evidence of love-bombing was found.\"}\n"
     ]
    }
   ],
   "source": [
    "\n",
    "behavior_scores = analyze_behavior(summarized_chats)\n",
    "print(\"Behavior Scores:\", behavior_scores)\n",
    "\n",
    "behavior_block = f\"\"\"\n",
    "Behavioral Analysis:\n",
    "- Tone: {behavior_scores.get('tone', 'NA')}\n",
    "- Emotional Availability: {behavior_scores.get('emotional_availability', 'NA')}\n",
    "- Wit: {behavior_scores.get('wit', 'NA')}\n",
    "- Love Bombing: {behavior_scores.get('love_bombing', 'NA')}\n",
    "- Comment: {behavior_scores.get('comment', '')}\n",
    "\"\"\".strip()"
   ]
  },
  {
   "cell_type": "code",
   "execution_count": 8,
   "metadata": {},
   "outputs": [],
   "source": [
    "# Notes (optional)\n",
    "notes = load_text(\"../data/notes.txt\")"
   ]
  },
  {
   "cell_type": "code",
   "execution_count": 9,
   "metadata": {},
   "outputs": [],
   "source": [
    "# Profile pictures vibe tagging\n",
    "pictures_folder = \"../data/pictures/\"\n",
    "if os.path.exists(pictures_folder) and os.listdir(pictures_folder):\n",
    "    picture_insight = generate_tagged_picture_insights(pictures_folder)\n",
    "else:\n",
    "    picture_insight = \"No profile pictures provided.\""
   ]
  },
  {
   "cell_type": "code",
   "execution_count": 10,
   "metadata": {},
   "outputs": [
    {
     "name": "stdout",
     "output_type": "stream",
     "text": [
      "You are a brutally honest compatibility evaluator. No sugarcoating.\n",
      "\n",
      "Your job is to analyze the profile, pictures, and chats of a potential partner and return:\n",
      "\n",
      "1. Red Flags\n",
      "2. Compatibility Score (0–100%)\n",
      "3. Match Breakdown: For each key preference, score the match on a scale of 0 (no match) to 10 (perfect match).  \n",
      "If the relevant detail is **not available** in the guy's profile, simply **omit** the key from output.\n",
      "4. Behavioral Analysis Summary (tone, wit, emotional availability)\n",
      "5. Time-Based Engagement Summary (ghosting, consistency, energy drop)\n",
      "6. Final Verdict (Proceed / Pause / No)\n",
      "\n",
      "---\n",
      "\n",
      "Preferences (Non-negotiables, Expectations):\n",
      "{\n",
      "  \"preferences\": {\n",
      "    \"personality_traits\": [\n",
      "      \"tall\",\n",
      "      \"emotionally available\",\n",
      "      \"mature\",\n",
      "      \"witty\",\n",
      "      \"communicative\",\n",
      "      \"consistent\",\n",
      "      \"uses proper grammar\"\n",
      "    ],\n",
      "    \"intent\": \"long-term relationship or marriage\",\n",
      "    \"income_min\": 0,\n",
      "    \"food_preferences\": \"not important\",\n",
      "    \"substance_use\": {\n",
      "      \"smoking\": \"no\",\n",
      "      \"alcohol\": \"no\",\n",
      "      \"drugs\": \"no\"\n",
      "    },\n",
      "    \"picture_traits\": [\n",
      "      \"explorer vibe\",\n",
      "      \"travel pictures\",\n",
      "      \"food pictures\",\n",
      "      \"coffee enthusiast\"\n",
      "    ]\n",
      "  }\n",
      "}\n",
      "\n",
      "LinkedIn Summary:\n",
      "Experienced Software Engineer with a B.Tech in Computer Science from IIT Bombay. Currently working as a Senior Software Engineer at FinTechX, specializing in building scalable backend systems for payment platforms and NLP-powered fraud detection. Previously, worked at Flipkart where responsibilities included designing distributed systems for e-commerce search and optimizing infrastructure for 10M+ daily queries. Skilled in Python, Java, C++, Machine Learning, Natural Language Processing, Deep Learning, AWS, and GCP. Based in Bangalore, India.\n",
      "\n",
      "Dating App Bio:\n",
      "The user is an adventurous fitness enthusiast with a passion for food who enjoys spontaneous road trips, deep conversations, and good coffee. They are seeking a meaningful connection beyond swipes, and share interests in mountains and pasta.\n",
      "\n",
      "Chat Summary:\n",
      " The tone of this chat is friendly and supportive, with a hint of casual humor. Both participants demonstrate maturity in their interactions, showing respect for each other's time and personal choices. Emotional clarity is evident as they discuss their daily activities, share concerns, and express appreciation for one another. Aditi shares her fitness consistency and work intensity, while Sam acknowledges his lack of regular exercise but offers alternative physical activity (hiking). When Aditi seems drained, Sam shows empathy by offering a chance to vent or a distraction with a joke, demonstrating emotional intelligence. The exchange ends on a light note, emphasizing their good-natured relationship.\n",
      "\n",
      "\n",
      "\n",
      "Notes:\n",
      "He seems nice, I am liking the vibe which he is giving.\n",
      "\n",
      "Picture Vibes:\n",
      "- 1.jpg: a man with a backpack walking up a mountain → ** Explorer**\n",
      "- 2.jpg: a man with glasses holding a cup of coffee → ** Selfie-heavy**\n",
      "\n",
      "Behavioral Scores:\n",
      "Behavioral Analysis:\n",
      "- Tone: 8\n",
      "- Emotional Availability: 7\n",
      "- Wit: 6\n",
      "- Love Bombing: 0\n",
      "- Comment: The conversation demonstrates a friendly and supportive tone with emotional clarity. Both individuals display maturity in their interactions and show empathy towards each other. While the chat includes occasional humor, it's not consistently witty. No evidence of love-bombing was found.\n",
      "\n",
      "Time Analysis:\n",
      "\n",
      "Ghosting Score: 0\n",
      "Engagement Decay: low\n",
      "Response Consistency: \n",
      "Comment: The engagement is relatively consistent with occasional quick replies. There's a slight decay in enthusiasm, but the overall interaction remains active.\n",
      "\n",
      "\n",
      "Now return your structured evaluation in this format:\n",
      "\n",
      "{\n",
      "  \"red_flags\": [\"...\"],\n",
      "  \"compatibility_score\": X,  // 0–100\n",
      "  \"match_breakdown\": {\n",
      "    \"emotionally_available\": W,\n",
      "    \"caste_match\": X,\n",
      "    \"income_match\": Y,\n",
      "    \"communication_style\": Z,\n",
      "    ...\n",
      "  },\n",
      "  \"verdict\": \"Proceed / Pause / No\",\n",
      "  \"comment\": \"Brief final insight from you.\"\n",
      "}\n"
     ]
    }
   ],
   "source": [
    "# Fill the GPT prompt\n",
    "template = load_prompt('../prompts/match_prompt.txt')\n",
    "final_prompt = fill_prompt(template, prefs, linkedin, bio, summarized_chats, notes, picture_insight, behavior_block,time_block)\n",
    "print(final_prompt)"
   ]
  },
  {
   "cell_type": "code",
   "execution_count": 11,
   "metadata": {},
   "outputs": [
    {
     "name": "stdout",
     "output_type": "stream",
     "text": [
      " GPT Structured Response:\n",
      "  {\n",
      "     \"red_flags\": [],\n",
      "     \"compatibility_score\": 80,\n",
      "     \"match_breakdown\": {\n",
      "       \"tall\": undefined, // Not mentioned in the profile\n",
      "       \"emotionally available\": 7,\n",
      "       \"caste_match\": undefined, // Not applicable\n",
      "       \"income_match\": undefined, // Not mentioned in the profile\n",
      "       \"personality_traits\": 6, // Somewhat matches as he is adventurous and communicative\n",
      "       \"intent\": 10, // Both are seeking long-term relationships or marriage\n",
      "       \"food_preferences\": undefined, // Not mentioned in the profile\n",
      "       \"substance_use\": {\n",
      "         \"smoking\": 0, // Not mentioned in the profile\n",
      "         \"alcohol\": 0, // Not mentioned in the profile\n",
      "         \"drugs\": 0 // Not mentioned in the profile\n",
      "       },\n",
      "       \"picture_traits\": {\n",
      "         \"explorer vibe\": 10, // Has a mountain picture which showcases his explorer side\n",
      "         \"travel pictures\": 8, // Has travel pictures but not as frequent as selfies\n",
      "         \"food pictures\": 7, // Food pictures are present but not very prominent\n",
      "         \"coffee enthusiast\": 9 // Has coffee pictures and seems to enjoy it\n",
      "       },\n",
      "     },\n",
      "     \"verdict\": \"Proceed\",\n",
      "     \"comment\": \"This individual appears to be a good fit based on your preferences. They demonstrate emotional intelligence, maturity, and share many of the same interests as you. Continue engaging with caution but optimistically.\"\n",
      "   }\n",
      "\n",
      "\n"
     ]
    }
   ],
   "source": [
    "output = call_mistral(final_prompt)\n",
    "print(\" GPT Structured Response:\\n\", output)"
   ]
  },
  {
   "cell_type": "code",
   "execution_count": 13,
   "metadata": {},
   "outputs": [
    {
     "name": "stdout",
     "output_type": "stream",
     "text": [
      "Report saved as: ../reports/report_2025-09-14_17-24-00.md\n",
      "Evaluation added to history.json\n"
     ]
    }
   ],
   "source": [
    "# Save the output to markdown and log to JSON\n",
    "timestamp = datetime.now().strftime(\"%Y-%m-%d_%H-%M-%S\")\n",
    "md_filename = f\"report_{timestamp}.md\"\n",
    "md_path = f\"../reports/{md_filename}\"\n",
    "\n",
    "# Save markdown\n",
    "with open(md_path, \"w\", encoding=\"utf-8\") as f:\n",
    "    f.write(output)\n",
    "print(f\"Report saved as: {md_path}\")\n",
    "\n",
    "# Save to history.json\n",
    "log = {\n",
    "    \"timestamp\": timestamp,\n",
    "    \"preferences\": json.loads(prefs),\n",
    "    \"linkedin\": linkedin,\n",
    "    \"bio\": bio,\n",
    "    \"chat_summary\": summarized_chats,\n",
    "    \"notes\": notes,\n",
    "    \"picture_insight\": picture_insight,\n",
    "    \"report_file\": md_filename,\n",
    "    \"output\": output\n",
    "}\n",
    "\n",
    "history_path = \"../results/history.json\"\n",
    "os.makedirs(\"../results\", exist_ok=True)\n",
    "\n",
    "if os.path.exists(history_path):\n",
    "    with open(history_path, \"r\", encoding=\"utf-8\") as f:\n",
    "        history = json.load(f)\n",
    "else:\n",
    "    history = []\n",
    "\n",
    "history.append(log)\n",
    "\n",
    "with open(history_path, \"w\", encoding=\"utf-8\") as f:\n",
    "    json.dump(history, f, indent=2)\n",
    "\n",
    "print(\"Evaluation added to history.json\")"
   ]
  },
  {
   "cell_type": "code",
   "execution_count": 15,
   "metadata": {},
   "outputs": [],
   "source": [
    "import re\n",
    "import json\n",
    "\n",
    "def extract_scores(output: str) -> dict:\n",
    "    try:\n",
    "        # Extract JSON block\n",
    "        match = re.search(r'\\{.*?\\}', output, re.DOTALL)\n",
    "        if not match:\n",
    "            print(\" No JSON found in GPT output.\")\n",
    "            return {}\n",
    "\n",
    "        json_part = match.group(0)\n",
    "\n",
    "        # Remove any inline comments (e.g. // or #)\n",
    "        cleaned_json = re.sub(r'//.*?$|#.*?$', '', json_part, flags=re.MULTILINE)\n",
    "\n",
    "        return json.loads(cleaned_json)\n",
    "    except Exception as e:\n",
    "        print(\" Error parsing scores:\", e)\n",
    "        return {}\n",
    "\n"
   ]
  },
  {
   "cell_type": "code",
   "execution_count": null,
   "metadata": {},
   "outputs": [],
   "source": []
  },
  {
   "cell_type": "code",
   "execution_count": null,
   "metadata": {},
   "outputs": [],
   "source": []
  }
 ],
 "metadata": {
  "kernelspec": {
   "display_name": "Python 3 (ipykernel)",
   "language": "python",
   "name": "python3"
  },
  "language_info": {
   "codemirror_mode": {
    "name": "ipython",
    "version": 3
   },
   "file_extension": ".py",
   "mimetype": "text/x-python",
   "name": "python",
   "nbconvert_exporter": "python",
   "pygments_lexer": "ipython3",
   "version": "3.11.0"
  }
 },
 "nbformat": 4,
 "nbformat_minor": 4
}
